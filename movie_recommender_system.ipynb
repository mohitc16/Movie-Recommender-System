{
 "cells": [
  {
   "cell_type": "markdown",
   "metadata": {},
   "source": [
    "# importing packages\n"
   ]
  },
  {
   "cell_type": "code",
   "execution_count": 1,
   "metadata": {
    "collapsed": true
   },
   "outputs": [],
   "source": [
    "import numpy as np\n",
    "import pandas as pd\n",
    "import matplotlib.pyplot as plt\n",
    "import seaborn as sns\n",
    "%matplotlib inline"
   ]
  },
  {
   "cell_type": "markdown",
   "metadata": {},
   "source": [
    "# reading data"
   ]
  },
  {
   "cell_type": "code",
   "execution_count": 2,
   "metadata": {
    "collapsed": true
   },
   "outputs": [],
   "source": [
    "header = ['user_id','item_id','rating','timestamp']\n",
    "df=pd.read_csv('ml-100k/u.data',sep='\\t',names=header)"
   ]
  },
  {
   "cell_type": "code",
   "execution_count": 3,
   "metadata": {},
   "outputs": [
    {
     "data": {
      "text/html": [
       "<div>\n",
       "<style>\n",
       "    .dataframe thead tr:only-child th {\n",
       "        text-align: right;\n",
       "    }\n",
       "\n",
       "    .dataframe thead th {\n",
       "        text-align: left;\n",
       "    }\n",
       "\n",
       "    .dataframe tbody tr th {\n",
       "        vertical-align: top;\n",
       "    }\n",
       "</style>\n",
       "<table border=\"1\" class=\"dataframe\">\n",
       "  <thead>\n",
       "    <tr style=\"text-align: right;\">\n",
       "      <th></th>\n",
       "      <th>user_id</th>\n",
       "      <th>item_id</th>\n",
       "      <th>rating</th>\n",
       "      <th>timestamp</th>\n",
       "    </tr>\n",
       "  </thead>\n",
       "  <tbody>\n",
       "    <tr>\n",
       "      <th>0</th>\n",
       "      <td>196</td>\n",
       "      <td>242</td>\n",
       "      <td>3</td>\n",
       "      <td>881250949</td>\n",
       "    </tr>\n",
       "    <tr>\n",
       "      <th>1</th>\n",
       "      <td>186</td>\n",
       "      <td>302</td>\n",
       "      <td>3</td>\n",
       "      <td>891717742</td>\n",
       "    </tr>\n",
       "    <tr>\n",
       "      <th>2</th>\n",
       "      <td>22</td>\n",
       "      <td>377</td>\n",
       "      <td>1</td>\n",
       "      <td>878887116</td>\n",
       "    </tr>\n",
       "    <tr>\n",
       "      <th>3</th>\n",
       "      <td>244</td>\n",
       "      <td>51</td>\n",
       "      <td>2</td>\n",
       "      <td>880606923</td>\n",
       "    </tr>\n",
       "    <tr>\n",
       "      <th>4</th>\n",
       "      <td>166</td>\n",
       "      <td>346</td>\n",
       "      <td>1</td>\n",
       "      <td>886397596</td>\n",
       "    </tr>\n",
       "  </tbody>\n",
       "</table>\n",
       "</div>"
      ],
      "text/plain": [
       "   user_id  item_id  rating  timestamp\n",
       "0      196      242       3  881250949\n",
       "1      186      302       3  891717742\n",
       "2       22      377       1  878887116\n",
       "3      244       51       2  880606923\n",
       "4      166      346       1  886397596"
      ]
     },
     "execution_count": 3,
     "metadata": {},
     "output_type": "execute_result"
    }
   ],
   "source": [
    "df.head()"
   ]
  },
  {
   "cell_type": "code",
   "execution_count": 4,
   "metadata": {},
   "outputs": [
    {
     "name": "stdout",
     "output_type": "stream",
     "text": [
      "943\n"
     ]
    }
   ],
   "source": [
    "#unique users\n",
    "n_users=df['user_id'].nunique()\n",
    "print(n_users)"
   ]
  },
  {
   "cell_type": "code",
   "execution_count": 5,
   "metadata": {},
   "outputs": [
    {
     "name": "stdout",
     "output_type": "stream",
     "text": [
      "1682\n"
     ]
    }
   ],
   "source": [
    "#unique movies\n",
    "n_items=df['item_id'].nunique()\n",
    "print(n_items)"
   ]
  },
  {
   "cell_type": "code",
   "execution_count": 6,
   "metadata": {},
   "outputs": [
    {
     "name": "stderr",
     "output_type": "stream",
     "text": [
      "C:\\Users\\Mohit\\Anaconda3\\lib\\site-packages\\sklearn\\cross_validation.py:41: DeprecationWarning: This module was deprecated in version 0.18 in favor of the model_selection module into which all the refactored classes and functions are moved. Also note that the interface of the new CV iterators are different from that of this module. This module will be removed in 0.20.\n",
      "  \"This module will be removed in 0.20.\", DeprecationWarning)\n"
     ]
    }
   ],
   "source": [
    "#train_test_split\n",
    "from sklearn.cross_validation import train_test_split\n",
    "train,test = train_test_split(df,test_size=0.25,random_state=0)"
   ]
  },
  {
   "cell_type": "code",
   "execution_count": 7,
   "metadata": {},
   "outputs": [],
   "source": [
    "header1=['user_id','age','gender','occupation','zip code']\n",
    "user_details=pd.read_csv('ml-100k/u.user',delimiter='|',names=header1)"
   ]
  },
  {
   "cell_type": "code",
   "execution_count": 8,
   "metadata": {},
   "outputs": [
    {
     "data": {
      "text/html": [
       "<div>\n",
       "<style>\n",
       "    .dataframe thead tr:only-child th {\n",
       "        text-align: right;\n",
       "    }\n",
       "\n",
       "    .dataframe thead th {\n",
       "        text-align: left;\n",
       "    }\n",
       "\n",
       "    .dataframe tbody tr th {\n",
       "        vertical-align: top;\n",
       "    }\n",
       "</style>\n",
       "<table border=\"1\" class=\"dataframe\">\n",
       "  <thead>\n",
       "    <tr style=\"text-align: right;\">\n",
       "      <th></th>\n",
       "      <th>user_id</th>\n",
       "      <th>age</th>\n",
       "      <th>gender</th>\n",
       "      <th>occupation</th>\n",
       "      <th>zip code</th>\n",
       "    </tr>\n",
       "  </thead>\n",
       "  <tbody>\n",
       "    <tr>\n",
       "      <th>0</th>\n",
       "      <td>1</td>\n",
       "      <td>24</td>\n",
       "      <td>M</td>\n",
       "      <td>technician</td>\n",
       "      <td>85711</td>\n",
       "    </tr>\n",
       "    <tr>\n",
       "      <th>1</th>\n",
       "      <td>2</td>\n",
       "      <td>53</td>\n",
       "      <td>F</td>\n",
       "      <td>other</td>\n",
       "      <td>94043</td>\n",
       "    </tr>\n",
       "    <tr>\n",
       "      <th>2</th>\n",
       "      <td>3</td>\n",
       "      <td>23</td>\n",
       "      <td>M</td>\n",
       "      <td>writer</td>\n",
       "      <td>32067</td>\n",
       "    </tr>\n",
       "    <tr>\n",
       "      <th>3</th>\n",
       "      <td>4</td>\n",
       "      <td>24</td>\n",
       "      <td>M</td>\n",
       "      <td>technician</td>\n",
       "      <td>43537</td>\n",
       "    </tr>\n",
       "    <tr>\n",
       "      <th>4</th>\n",
       "      <td>5</td>\n",
       "      <td>33</td>\n",
       "      <td>F</td>\n",
       "      <td>other</td>\n",
       "      <td>15213</td>\n",
       "    </tr>\n",
       "  </tbody>\n",
       "</table>\n",
       "</div>"
      ],
      "text/plain": [
       "   user_id  age gender  occupation zip code\n",
       "0        1   24      M  technician    85711\n",
       "1        2   53      F       other    94043\n",
       "2        3   23      M      writer    32067\n",
       "3        4   24      M  technician    43537\n",
       "4        5   33      F       other    15213"
      ]
     },
     "execution_count": 8,
     "metadata": {},
     "output_type": "execute_result"
    }
   ],
   "source": [
    "user_details.head()"
   ]
  },
  {
   "cell_type": "code",
   "execution_count": 9,
   "metadata": {
    "collapsed": true
   },
   "outputs": [],
   "source": [
    "header2=['movie_id','movie_title','release_date','video_release_date','IMDb_URL','unknown','Action','Adventure','Animation','Childrens','Comedy','Crime','Documentary','Drama','Fantasy',\n",
    "        'Film-Noir','Horror','Musical','Mystery','Romance','Sci-Fi','Thriller','War','Western']\n",
    "movie_details=pd.read_csv('ml-100k/u.item',sep='|',encoding='latin',names=header2)"
   ]
  },
  {
   "cell_type": "code",
   "execution_count": 10,
   "metadata": {},
   "outputs": [],
   "source": [
    "movie_details.drop('video_release_date',axis=1,inplace=True)"
   ]
  },
  {
   "cell_type": "code",
   "execution_count": 11,
   "metadata": {},
   "outputs": [
    {
     "data": {
      "text/html": [
       "<div>\n",
       "<style>\n",
       "    .dataframe thead tr:only-child th {\n",
       "        text-align: right;\n",
       "    }\n",
       "\n",
       "    .dataframe thead th {\n",
       "        text-align: left;\n",
       "    }\n",
       "\n",
       "    .dataframe tbody tr th {\n",
       "        vertical-align: top;\n",
       "    }\n",
       "</style>\n",
       "<table border=\"1\" class=\"dataframe\">\n",
       "  <thead>\n",
       "    <tr style=\"text-align: right;\">\n",
       "      <th></th>\n",
       "      <th>movie_id</th>\n",
       "      <th>movie_title</th>\n",
       "      <th>release_date</th>\n",
       "      <th>IMDb_URL</th>\n",
       "      <th>unknown</th>\n",
       "      <th>Action</th>\n",
       "      <th>Adventure</th>\n",
       "      <th>Animation</th>\n",
       "      <th>Childrens</th>\n",
       "      <th>Comedy</th>\n",
       "      <th>...</th>\n",
       "      <th>Fantasy</th>\n",
       "      <th>Film-Noir</th>\n",
       "      <th>Horror</th>\n",
       "      <th>Musical</th>\n",
       "      <th>Mystery</th>\n",
       "      <th>Romance</th>\n",
       "      <th>Sci-Fi</th>\n",
       "      <th>Thriller</th>\n",
       "      <th>War</th>\n",
       "      <th>Western</th>\n",
       "    </tr>\n",
       "  </thead>\n",
       "  <tbody>\n",
       "    <tr>\n",
       "      <th>0</th>\n",
       "      <td>1</td>\n",
       "      <td>Toy Story (1995)</td>\n",
       "      <td>01-Jan-1995</td>\n",
       "      <td>http://us.imdb.com/M/title-exact?Toy%20Story%2...</td>\n",
       "      <td>0</td>\n",
       "      <td>0</td>\n",
       "      <td>0</td>\n",
       "      <td>1</td>\n",
       "      <td>1</td>\n",
       "      <td>1</td>\n",
       "      <td>...</td>\n",
       "      <td>0</td>\n",
       "      <td>0</td>\n",
       "      <td>0</td>\n",
       "      <td>0</td>\n",
       "      <td>0</td>\n",
       "      <td>0</td>\n",
       "      <td>0</td>\n",
       "      <td>0</td>\n",
       "      <td>0</td>\n",
       "      <td>0</td>\n",
       "    </tr>\n",
       "    <tr>\n",
       "      <th>1</th>\n",
       "      <td>2</td>\n",
       "      <td>GoldenEye (1995)</td>\n",
       "      <td>01-Jan-1995</td>\n",
       "      <td>http://us.imdb.com/M/title-exact?GoldenEye%20(...</td>\n",
       "      <td>0</td>\n",
       "      <td>1</td>\n",
       "      <td>1</td>\n",
       "      <td>0</td>\n",
       "      <td>0</td>\n",
       "      <td>0</td>\n",
       "      <td>...</td>\n",
       "      <td>0</td>\n",
       "      <td>0</td>\n",
       "      <td>0</td>\n",
       "      <td>0</td>\n",
       "      <td>0</td>\n",
       "      <td>0</td>\n",
       "      <td>0</td>\n",
       "      <td>1</td>\n",
       "      <td>0</td>\n",
       "      <td>0</td>\n",
       "    </tr>\n",
       "    <tr>\n",
       "      <th>2</th>\n",
       "      <td>3</td>\n",
       "      <td>Four Rooms (1995)</td>\n",
       "      <td>01-Jan-1995</td>\n",
       "      <td>http://us.imdb.com/M/title-exact?Four%20Rooms%...</td>\n",
       "      <td>0</td>\n",
       "      <td>0</td>\n",
       "      <td>0</td>\n",
       "      <td>0</td>\n",
       "      <td>0</td>\n",
       "      <td>0</td>\n",
       "      <td>...</td>\n",
       "      <td>0</td>\n",
       "      <td>0</td>\n",
       "      <td>0</td>\n",
       "      <td>0</td>\n",
       "      <td>0</td>\n",
       "      <td>0</td>\n",
       "      <td>0</td>\n",
       "      <td>1</td>\n",
       "      <td>0</td>\n",
       "      <td>0</td>\n",
       "    </tr>\n",
       "    <tr>\n",
       "      <th>3</th>\n",
       "      <td>4</td>\n",
       "      <td>Get Shorty (1995)</td>\n",
       "      <td>01-Jan-1995</td>\n",
       "      <td>http://us.imdb.com/M/title-exact?Get%20Shorty%...</td>\n",
       "      <td>0</td>\n",
       "      <td>1</td>\n",
       "      <td>0</td>\n",
       "      <td>0</td>\n",
       "      <td>0</td>\n",
       "      <td>1</td>\n",
       "      <td>...</td>\n",
       "      <td>0</td>\n",
       "      <td>0</td>\n",
       "      <td>0</td>\n",
       "      <td>0</td>\n",
       "      <td>0</td>\n",
       "      <td>0</td>\n",
       "      <td>0</td>\n",
       "      <td>0</td>\n",
       "      <td>0</td>\n",
       "      <td>0</td>\n",
       "    </tr>\n",
       "    <tr>\n",
       "      <th>4</th>\n",
       "      <td>5</td>\n",
       "      <td>Copycat (1995)</td>\n",
       "      <td>01-Jan-1995</td>\n",
       "      <td>http://us.imdb.com/M/title-exact?Copycat%20(1995)</td>\n",
       "      <td>0</td>\n",
       "      <td>0</td>\n",
       "      <td>0</td>\n",
       "      <td>0</td>\n",
       "      <td>0</td>\n",
       "      <td>0</td>\n",
       "      <td>...</td>\n",
       "      <td>0</td>\n",
       "      <td>0</td>\n",
       "      <td>0</td>\n",
       "      <td>0</td>\n",
       "      <td>0</td>\n",
       "      <td>0</td>\n",
       "      <td>0</td>\n",
       "      <td>1</td>\n",
       "      <td>0</td>\n",
       "      <td>0</td>\n",
       "    </tr>\n",
       "  </tbody>\n",
       "</table>\n",
       "<p>5 rows × 23 columns</p>\n",
       "</div>"
      ],
      "text/plain": [
       "   movie_id        movie_title release_date  \\\n",
       "0         1   Toy Story (1995)  01-Jan-1995   \n",
       "1         2   GoldenEye (1995)  01-Jan-1995   \n",
       "2         3  Four Rooms (1995)  01-Jan-1995   \n",
       "3         4  Get Shorty (1995)  01-Jan-1995   \n",
       "4         5     Copycat (1995)  01-Jan-1995   \n",
       "\n",
       "                                            IMDb_URL  unknown  Action  \\\n",
       "0  http://us.imdb.com/M/title-exact?Toy%20Story%2...        0       0   \n",
       "1  http://us.imdb.com/M/title-exact?GoldenEye%20(...        0       1   \n",
       "2  http://us.imdb.com/M/title-exact?Four%20Rooms%...        0       0   \n",
       "3  http://us.imdb.com/M/title-exact?Get%20Shorty%...        0       1   \n",
       "4  http://us.imdb.com/M/title-exact?Copycat%20(1995)        0       0   \n",
       "\n",
       "   Adventure  Animation  Childrens  Comedy   ...     Fantasy  Film-Noir  \\\n",
       "0          0          1          1       1   ...           0          0   \n",
       "1          1          0          0       0   ...           0          0   \n",
       "2          0          0          0       0   ...           0          0   \n",
       "3          0          0          0       1   ...           0          0   \n",
       "4          0          0          0       0   ...           0          0   \n",
       "\n",
       "   Horror  Musical  Mystery  Romance  Sci-Fi  Thriller  War  Western  \n",
       "0       0        0        0        0       0         0    0        0  \n",
       "1       0        0        0        0       0         1    0        0  \n",
       "2       0        0        0        0       0         1    0        0  \n",
       "3       0        0        0        0       0         0    0        0  \n",
       "4       0        0        0        0       0         1    0        0  \n",
       "\n",
       "[5 rows x 23 columns]"
      ]
     },
     "execution_count": 11,
     "metadata": {},
     "output_type": "execute_result"
    }
   ],
   "source": [
    "movie_details.head()"
   ]
  },
  {
   "cell_type": "code",
   "execution_count": 12,
   "metadata": {
    "collapsed": true
   },
   "outputs": [],
   "source": [
    "train_matrix=np.zeros((n_users,n_items))"
   ]
  },
  {
   "cell_type": "code",
   "execution_count": 13,
   "metadata": {},
   "outputs": [
    {
     "data": {
      "text/plain": [
       "(943, 1682)"
      ]
     },
     "execution_count": 13,
     "metadata": {},
     "output_type": "execute_result"
    }
   ],
   "source": [
    "train_matrix.shape"
   ]
  },
  {
   "cell_type": "code",
   "execution_count": 14,
   "metadata": {},
   "outputs": [
    {
     "data": {
      "text/html": [
       "<div>\n",
       "<style>\n",
       "    .dataframe thead tr:only-child th {\n",
       "        text-align: right;\n",
       "    }\n",
       "\n",
       "    .dataframe thead th {\n",
       "        text-align: left;\n",
       "    }\n",
       "\n",
       "    .dataframe tbody tr th {\n",
       "        vertical-align: top;\n",
       "    }\n",
       "</style>\n",
       "<table border=\"1\" class=\"dataframe\">\n",
       "  <thead>\n",
       "    <tr style=\"text-align: right;\">\n",
       "      <th></th>\n",
       "      <th>user_id</th>\n",
       "      <th>item_id</th>\n",
       "      <th>rating</th>\n",
       "      <th>timestamp</th>\n",
       "    </tr>\n",
       "  </thead>\n",
       "  <tbody>\n",
       "    <tr>\n",
       "      <th>0</th>\n",
       "      <td>196</td>\n",
       "      <td>242</td>\n",
       "      <td>3</td>\n",
       "      <td>881250949</td>\n",
       "    </tr>\n",
       "    <tr>\n",
       "      <th>1</th>\n",
       "      <td>186</td>\n",
       "      <td>302</td>\n",
       "      <td>3</td>\n",
       "      <td>891717742</td>\n",
       "    </tr>\n",
       "    <tr>\n",
       "      <th>2</th>\n",
       "      <td>22</td>\n",
       "      <td>377</td>\n",
       "      <td>1</td>\n",
       "      <td>878887116</td>\n",
       "    </tr>\n",
       "    <tr>\n",
       "      <th>3</th>\n",
       "      <td>244</td>\n",
       "      <td>51</td>\n",
       "      <td>2</td>\n",
       "      <td>880606923</td>\n",
       "    </tr>\n",
       "    <tr>\n",
       "      <th>4</th>\n",
       "      <td>166</td>\n",
       "      <td>346</td>\n",
       "      <td>1</td>\n",
       "      <td>886397596</td>\n",
       "    </tr>\n",
       "  </tbody>\n",
       "</table>\n",
       "</div>"
      ],
      "text/plain": [
       "   user_id  item_id  rating  timestamp\n",
       "0      196      242       3  881250949\n",
       "1      186      302       3  891717742\n",
       "2       22      377       1  878887116\n",
       "3      244       51       2  880606923\n",
       "4      166      346       1  886397596"
      ]
     },
     "execution_count": 14,
     "metadata": {},
     "output_type": "execute_result"
    }
   ],
   "source": [
    "df.head()"
   ]
  },
  {
   "cell_type": "code",
   "execution_count": 15,
   "metadata": {},
   "outputs": [
    {
     "data": {
      "text/html": [
       "<div>\n",
       "<style>\n",
       "    .dataframe thead tr:only-child th {\n",
       "        text-align: right;\n",
       "    }\n",
       "\n",
       "    .dataframe thead th {\n",
       "        text-align: left;\n",
       "    }\n",
       "\n",
       "    .dataframe tbody tr th {\n",
       "        vertical-align: top;\n",
       "    }\n",
       "</style>\n",
       "<table border=\"1\" class=\"dataframe\">\n",
       "  <thead>\n",
       "    <tr style=\"text-align: right;\">\n",
       "      <th></th>\n",
       "      <th>user_id</th>\n",
       "      <th>item_id</th>\n",
       "      <th>rating</th>\n",
       "      <th>timestamp</th>\n",
       "    </tr>\n",
       "  </thead>\n",
       "  <tbody>\n",
       "    <tr>\n",
       "      <th>2606</th>\n",
       "      <td>208</td>\n",
       "      <td>88</td>\n",
       "      <td>5</td>\n",
       "      <td>883108324</td>\n",
       "    </tr>\n",
       "    <tr>\n",
       "      <th>57228</th>\n",
       "      <td>676</td>\n",
       "      <td>902</td>\n",
       "      <td>4</td>\n",
       "      <td>892685740</td>\n",
       "    </tr>\n",
       "    <tr>\n",
       "      <th>8382</th>\n",
       "      <td>374</td>\n",
       "      <td>231</td>\n",
       "      <td>2</td>\n",
       "      <td>880939228</td>\n",
       "    </tr>\n",
       "    <tr>\n",
       "      <th>60281</th>\n",
       "      <td>378</td>\n",
       "      <td>566</td>\n",
       "      <td>3</td>\n",
       "      <td>880045856</td>\n",
       "    </tr>\n",
       "    <tr>\n",
       "      <th>48432</th>\n",
       "      <td>726</td>\n",
       "      <td>845</td>\n",
       "      <td>3</td>\n",
       "      <td>889832358</td>\n",
       "    </tr>\n",
       "  </tbody>\n",
       "</table>\n",
       "</div>"
      ],
      "text/plain": [
       "       user_id  item_id  rating  timestamp\n",
       "2606       208       88       5  883108324\n",
       "57228      676      902       4  892685740\n",
       "8382       374      231       2  880939228\n",
       "60281      378      566       3  880045856\n",
       "48432      726      845       3  889832358"
      ]
     },
     "execution_count": 15,
     "metadata": {},
     "output_type": "execute_result"
    }
   ],
   "source": [
    "train.head()"
   ]
  },
  {
   "cell_type": "code",
   "execution_count": 16,
   "metadata": {},
   "outputs": [],
   "source": [
    "train.reset_index(drop=True,inplace=True)"
   ]
  },
  {
   "cell_type": "code",
   "execution_count": 17,
   "metadata": {},
   "outputs": [
    {
     "data": {
      "text/html": [
       "<div>\n",
       "<style>\n",
       "    .dataframe thead tr:only-child th {\n",
       "        text-align: right;\n",
       "    }\n",
       "\n",
       "    .dataframe thead th {\n",
       "        text-align: left;\n",
       "    }\n",
       "\n",
       "    .dataframe tbody tr th {\n",
       "        vertical-align: top;\n",
       "    }\n",
       "</style>\n",
       "<table border=\"1\" class=\"dataframe\">\n",
       "  <thead>\n",
       "    <tr style=\"text-align: right;\">\n",
       "      <th></th>\n",
       "      <th>user_id</th>\n",
       "      <th>item_id</th>\n",
       "      <th>rating</th>\n",
       "      <th>timestamp</th>\n",
       "    </tr>\n",
       "  </thead>\n",
       "  <tbody>\n",
       "    <tr>\n",
       "      <th>3582</th>\n",
       "      <td>23</td>\n",
       "      <td>528</td>\n",
       "      <td>4</td>\n",
       "      <td>874786974</td>\n",
       "    </tr>\n",
       "    <tr>\n",
       "      <th>60498</th>\n",
       "      <td>695</td>\n",
       "      <td>242</td>\n",
       "      <td>5</td>\n",
       "      <td>888805837</td>\n",
       "    </tr>\n",
       "    <tr>\n",
       "      <th>53227</th>\n",
       "      <td>774</td>\n",
       "      <td>28</td>\n",
       "      <td>3</td>\n",
       "      <td>888556698</td>\n",
       "    </tr>\n",
       "    <tr>\n",
       "      <th>21333</th>\n",
       "      <td>417</td>\n",
       "      <td>550</td>\n",
       "      <td>3</td>\n",
       "      <td>879649178</td>\n",
       "    </tr>\n",
       "    <tr>\n",
       "      <th>3885</th>\n",
       "      <td>234</td>\n",
       "      <td>1035</td>\n",
       "      <td>3</td>\n",
       "      <td>892335142</td>\n",
       "    </tr>\n",
       "  </tbody>\n",
       "</table>\n",
       "</div>"
      ],
      "text/plain": [
       "       user_id  item_id  rating  timestamp\n",
       "3582        23      528       4  874786974\n",
       "60498      695      242       5  888805837\n",
       "53227      774       28       3  888556698\n",
       "21333      417      550       3  879649178\n",
       "3885       234     1035       3  892335142"
      ]
     },
     "execution_count": 17,
     "metadata": {},
     "output_type": "execute_result"
    }
   ],
   "source": [
    "test.head()"
   ]
  },
  {
   "cell_type": "code",
   "execution_count": 18,
   "metadata": {},
   "outputs": [],
   "source": [
    "test.reset_index(drop=True,inplace=True)"
   ]
  },
  {
   "cell_type": "code",
   "execution_count": 19,
   "metadata": {},
   "outputs": [],
   "source": [
    "for i in range(0,train.shape[0]):\n",
    "    user=train.loc[i]['user_id']-1\n",
    "    item=train.loc[i]['item_id']-1\n",
    "    rating=train.loc[i]['rating']\n",
    "    train_matrix[user,item]=rating"
   ]
  },
  {
   "cell_type": "code",
   "execution_count": 20,
   "metadata": {},
   "outputs": [
    {
     "data": {
      "text/plain": [
       "array([[ 5.,  3.,  4., ...,  0.,  0.,  0.],\n",
       "       [ 0.,  0.,  0., ...,  0.,  0.,  0.],\n",
       "       [ 0.,  0.,  0., ...,  0.,  0.,  0.],\n",
       "       ..., \n",
       "       [ 0.,  0.,  0., ...,  0.,  0.,  0.],\n",
       "       [ 0.,  0.,  0., ...,  0.,  0.,  0.],\n",
       "       [ 0.,  0.,  0., ...,  0.,  0.,  0.]])"
      ]
     },
     "execution_count": 20,
     "metadata": {},
     "output_type": "execute_result"
    }
   ],
   "source": [
    "train_matrix"
   ]
  },
  {
   "cell_type": "markdown",
   "metadata": {},
   "source": [
    "# user similarity based collaborative filtering"
   ]
  },
  {
   "cell_type": "code",
   "execution_count": 21,
   "metadata": {},
   "outputs": [],
   "source": [
    "#cosine user-item similarity\n",
    "from sklearn.metrics.pairwise import pairwise_distances\n",
    "user_similarity=pairwise_distances(train_matrix,metric='cosine')"
   ]
  },
  {
   "cell_type": "code",
   "execution_count": 22,
   "metadata": {},
   "outputs": [
    {
     "data": {
      "text/plain": [
       "array([[ 0.        ,  0.85911263,  0.96301907, ...,  0.91032902,\n",
       "         0.85885377,  0.66871691],\n",
       "       [ 0.85911263,  0.        ,  0.90275428, ...,  0.92026073,\n",
       "         0.85022457,  0.88139105],\n",
       "       [ 0.96301907,  0.90275428,  0.        , ...,  0.90883637,\n",
       "         0.87352037,  0.96262931],\n",
       "       ..., \n",
       "       [ 0.91032902,  0.92026073,  0.90883637, ...,  0.        ,\n",
       "         0.89514991,  0.89212373],\n",
       "       [ 0.85885377,  0.85022457,  0.87352037, ...,  0.89514991,\n",
       "         0.        ,  0.88108541],\n",
       "       [ 0.66871691,  0.88139105,  0.96262931, ...,  0.89212373,\n",
       "         0.88108541,  0.        ]])"
      ]
     },
     "execution_count": 22,
     "metadata": {},
     "output_type": "execute_result"
    }
   ],
   "source": [
    "user_similarity"
   ]
  },
  {
   "cell_type": "code",
   "execution_count": 23,
   "metadata": {},
   "outputs": [],
   "source": [
    "mean_user_rating=train_matrix.mean(axis=1)"
   ]
  },
  {
   "cell_type": "code",
   "execution_count": 24,
   "metadata": {
    "scrolled": true
   },
   "outputs": [
    {
     "name": "stdout",
     "output_type": "stream",
     "text": [
      "[ 0.42390012  0.10225922  0.06123662  0.05469679  0.21700357  0.33472057\n",
      "  0.73840666  0.09571938  0.04756243  0.34720571  0.28180737  0.11296076\n",
      "  0.88703924  0.16706302  0.13198573  0.27526754  0.03269917  0.46789536\n",
      "  0.02497027  0.07193817  0.20214031  0.21343639  0.23959572  0.12366231\n",
      "  0.14268728  0.14209275  0.03388823  0.12782402  0.05410226  0.06777646\n",
      "  0.06064209  0.05469679  0.04161712  0.03269917  0.03686088  0.03745541\n",
      "  0.09750297  0.21224732  0.03567182  0.04102259  0.08561237  0.28894174\n",
      "  0.35850178  0.2372176   0.08680143  0.06183115  0.04637337  0.1058264\n",
      "  0.23246136  0.0332937   0.03032105  0.10107015  0.05053508  0.12425684\n",
      "  0.03269917  0.32580262  0.16646849  0.26456599  0.67122473  0.38049941\n",
      "  0.03269917  0.35077289  0.12485137  0.33650416  0.14030916  0.05410226\n",
      "  0.04875149  0.04994055  0.10047562  0.19857313  0.06420927  0.22711058\n",
      "  0.10285375  0.06123662  0.11533888  0.14149822  0.11890606  0.03091558\n",
      "  0.08739596  0.04102259  0.08858502  0.22889417  0.2431629   0.11355529\n",
      "  0.46967895  0.0332937   0.3626635   0.03864447  0.14149822  0.52199762\n",
      "  0.16944114  0.57669441  0.02913199  0.65398335  0.41676576  0.11355529\n",
      "  0.10939358  0.04102259  0.19857313  0.08204518  0.0921522   0.25624257\n",
      "  0.05112961  0.13555291  0.03626635  0.10107015  0.03210464  0.05410226\n",
      "  0.38941736  0.20868014  0.03210464  0.07550535  0.09512485  0.07966706\n",
      "  0.16290131  0.19916766  0.15517241  0.16646849  0.28418549  0.04042806\n",
      "  0.11474435  0.117717    0.09453032  0.04577883  0.26159334  0.07788347\n",
      "  0.04399524  0.28715815  0.02913199  0.60939358  0.05945303  0.04042806\n",
      "  0.04161712  0.04280618  0.08026159  0.0648038   0.09512485  0.08382878\n",
      "  0.0529132   0.03448276  0.16409037  0.05350773  0.02794293  0.34780024\n",
      "  0.45897741  0.04994055  0.02972652  0.09690844  0.04280618  0.05648038\n",
      "  0.57788347  0.20214031  0.03210464  0.10047562  0.02675386  0.0588585\n",
      "  0.0980975   0.29845422  0.16349584  0.21700357  0.06064209  0.06777646\n",
      "  0.03091558  0.11474435  0.05826397  0.03151011  0.11236623  0.10760999\n",
      "  0.06183115  0.03091558  0.039239    0.03626635  0.07669441  0.27288942\n",
      "  0.06956005  0.08917955  0.18965517  0.44054697  0.0648038   0.11831153\n",
      "  0.27526754  0.05350773  0.07728894  0.41795482  0.08382878  0.14863258\n",
      "  0.10047562  0.18073722  0.32461356  0.09274673  0.03983353  0.0588585\n",
      "  0.16052319  0.40249703  0.14209275  0.0648038   0.17479191  0.24970273\n",
      "  0.05469679  0.37039239  0.52318668  0.02913199  0.06837099  0.05350773\n",
      "  0.0255648   0.0648038   0.30677765  0.04756243  0.05231867  0.2294887\n",
      "  0.06123662  0.04994055  0.24554102  0.20689655  0.156956    0.22413793\n",
      "  0.08323424  0.09036861  0.04458977  0.04042806  0.23186683  0.56539834\n",
      "  0.13793103  0.18965517  0.05053508  0.0862069   0.09690844  0.03626635\n",
      "  0.04340071  0.23008323  0.03091558  0.16052319  0.20808561  0.65398335\n",
      "  0.1843044   0.20927467  0.0921522   0.04161712  0.32758621  0.03269917\n",
      "  0.03686088  0.04399524  0.1254459   0.36741974  0.03091558  0.26456599\n",
      "  0.05469679  0.09155767  0.28299643  0.2039239   0.1391201   0.03448276\n",
      "  0.18370987  0.23365042  0.09512485  0.34007134  0.09869203  0.03448276\n",
      "  0.07015458  0.03626635  0.04637337  0.21581451  0.22711058  0.21581451\n",
      "  0.07609988  0.02675386  0.28537455  0.43400713  0.40903686  0.27942925\n",
      "  0.46016647  0.09393579  0.03448276  0.13317479  0.13555291  0.82045184\n",
      "  0.07550535  0.0451843   0.65517241  0.41498216  0.04161712  0.03448276\n",
      "  0.10344828  0.07134364  0.05529132  0.49108205  0.117717    0.11296076\n",
      "  0.04221165  0.23900119  0.46373365  0.24494649  0.51070155  0.24554102\n",
      "  0.38466112  0.27467301  0.30618312  0.2294887   0.40963139  0.03626635\n",
      "  0.41438763  0.02615933  0.68965517  0.04161712  0.35196195  0.05826397\n",
      "  0.17717004  0.67360285  0.02378121  0.03507729  0.52497027  0.45362663\n",
      "  0.40963139  0.41022592  0.15814507  0.11117717  0.03804994  0.25386445\n",
      "  0.02734839  0.2431629   0.1902497   0.10047562  0.13317479  0.12366231\n",
      "  0.20273484  0.28656361  0.42806183  0.41973841  0.08561237  0.28656361\n",
      "  0.11890606  0.34542212  0.05350773  0.55529132  0.04102259  0.18073722\n",
      "  0.06242568  0.1373365   0.460761    0.07431629  0.04458977  0.30737218\n",
      "  0.41022592  0.32045184  0.37812128  0.29310345  0.31866825  0.11414982\n",
      "  0.06837099  0.10701546  0.08204518  0.0588585   0.02972652  0.37336504\n",
      "  0.05588585  0.03626635  0.14209275  0.06718193  0.05053508  0.17776457\n",
      "  0.21343639  0.039239    0.42330559  0.03269917  0.08382878  0.06420927\n",
      "  0.10939358  0.06777646  0.03091558  0.12068966  0.08145065  0.13436385\n",
      "  0.38466112  0.4078478   0.04756243  0.0529132   0.0588585   0.59274673\n",
      "  0.37277051  0.22235434  0.21462545  0.08442331  0.12722949  0.04221165\n",
      "  0.39179548  0.04102259  0.47324614  0.09631391  0.4351962   0.05648038\n",
      "  0.20630202  0.20035672  0.68252081  0.26753864  0.08977408  0.08799049\n",
      "  0.16290131  0.30321046  0.42687277  0.03686088  0.21878716  0.12485137\n",
      "  0.08858502  0.0665874   0.58085612  0.53032105  0.3412604   0.0469679\n",
      "  0.32104637  0.03745541  0.09453032  0.09274673  0.07788347  0.04221165\n",
      "  0.04637337  0.84720571  0.53983353  0.02972652  0.06004756  0.06956005\n",
      "  0.12128419  0.14149822  0.0980975   0.05648038  0.24673008  0.17538644\n",
      "  0.0588585   0.08382878  0.62485137  0.10998811  0.03210464  0.10166468\n",
      "  0.06064209  0.06896552  0.56302021  0.24019025  0.42568371  0.06420927\n",
      "  0.05945303  0.09274673  0.03507729  0.19203329  0.04221165  0.04042806\n",
      "  0.10523187  0.04458977  0.20570749  0.05350773  0.12485137  0.94946492\n",
      "  0.11236623  0.31985731  0.24791914  0.33115339  0.28002378  0.33353151\n",
      "  0.48454221  0.28953627  0.17776457  0.09512485  0.02675386  0.05588585\n",
      "  0.17479191  0.07312723  0.1313912   0.14684899  0.07609988  0.24137931\n",
      "  0.08145065  0.09036861  0.04340071  0.48810939  0.05945303  0.58026159\n",
      "  0.02913199  0.10820452  0.06777646  0.18073722  0.30677765  0.08026159\n",
      "  0.1058264   0.04637337  0.07966706  0.24970273  0.03448276  0.25624257\n",
      "  0.37039239  0.21224732  0.17122473  0.07312723  0.05766944  0.09571938\n",
      "  0.22057075  0.08442331  0.40249703  0.19560048  0.41319857  0.24078478\n",
      "  0.18906064  0.32580262  0.1117717   0.05945303  0.27824019  0.40368609\n",
      "  0.16944114  0.38109394  0.11831153  0.14744352  0.03626635  0.03151011\n",
      "  0.03804994  0.04815696  0.04221165  0.31629013  0.04875149  0.04399524\n",
      "  0.04875149  0.11533888  0.09928656  0.03388823  0.21403092  0.06420927\n",
      "  0.17895363  0.47027348  0.08085612  0.10344828  0.2372176   0.07907253\n",
      "  0.06956005  0.08145065  0.04042806  0.52140309  0.37990488  0.14209275\n",
      "  0.34720571  0.29488704  0.62841855  0.12485137  0.0980975   0.10820452\n",
      "  0.18727705  0.20035672  0.31629013  0.0451843   0.23127229  0.09690844\n",
      "  0.04221165  0.25624257  0.039239    0.07193817  0.55648038  0.12901308\n",
      "  0.17657551  0.18727705  0.0921522   0.08917955  0.09453032  0.03864447\n",
      "  0.12485137  0.15636147  0.4667063   0.11058264  0.03864447  0.05231867\n",
      "  0.07372176  0.22651605  0.30261593  0.11950059  0.10285375  0.02021403\n",
      "  0.02497027  0.02972652  0.07788347  0.06896552  0.03269917  0.05529132\n",
      "  0.3293698   0.03091558  0.12128419  0.07312723  0.05469679  0.10404281\n",
      "  0.05826397  0.04102259  0.15636147  0.23186683  0.12960761  0.37574316\n",
      "  0.07015458  0.07372176  0.16111772  0.60047562  0.26872771  0.03864447\n",
      "  0.14803805  0.0255648   0.07431629  0.04280618  0.08977408  0.14030916\n",
      "  0.20154578  0.05766944  0.08917955  0.03804994  0.14982164  0.39536266\n",
      "  0.06896552  0.25624257  0.03507729  0.13258026  0.07728894  0.04221165\n",
      "  0.04875149  0.04756243  0.16944114  0.07074911  0.117717    0.31450654\n",
      "  0.13198573  0.16706302  0.30856124  0.34185493  0.07788347  0.2294887\n",
      "  0.15219976  0.03448276  0.2431629   0.04756243  0.21997622  0.16349584\n",
      "  0.02972652  0.19976219  0.09690844  0.20095125  0.03983353  0.039239\n",
      "  0.10701546  0.10879905  0.21462545  0.18906064  0.07074911  0.52615933\n",
      "  0.34780024  0.08085612  0.22711058  0.05350773  0.09750297  0.43460166\n",
      "  0.0469679   0.42508918  0.03567182  0.03507729  0.3293698   0.23305589\n",
      "  0.86801427  0.02913199  0.04815696  0.11296076  0.32580262  0.26753864\n",
      "  0.23840666  0.04458977  0.26099881  0.29548157  0.22057075  0.41854935\n",
      "  0.08561237  0.07134364  0.16052319  0.07134364  0.18489893  0.04280618\n",
      "  0.06302021  0.0725327   0.06183115  0.12366231  0.07431629  0.04577883\n",
      "  0.10463734  0.0648038   0.04042806  0.56420927  0.12425684  0.13079667\n",
      "  0.02259215  0.14565993  0.03210464  0.05588585  0.0648038   0.16944114\n",
      "  0.05826397  0.0588585   0.21700357  0.30499405  0.05172414  0.04934602\n",
      "  0.17657551  0.16409037  0.19322235  0.04221165  0.05469679  0.03804994\n",
      "  0.078478    0.156956    0.19619501  0.05053508  0.37217598  0.16111772\n",
      "  0.23008323  0.13674197  0.39595719  0.25980975  0.03686088  0.06896552\n",
      "  0.23840666  0.45897741  0.1510107   0.07074911  0.09334126  0.04280618\n",
      "  0.26813317  0.06599287  0.02972652  0.08858502  0.03864447  0.03388823\n",
      "  0.42687277  0.04221165  0.0136742   0.05350773  0.12187872  0.03507729\n",
      "  0.13614744  0.10404281  0.06956005  0.03626635  0.05588585  0.24256837\n",
      "  0.06004756  0.02378121  0.16646849  0.03448276  0.05053508  0.05529132\n",
      "  0.08145065  0.11474435  0.54399524  0.19322235  0.48870392  0.04458977\n",
      "  0.26456599  0.09690844  0.09750297  0.05588585  0.05707491  0.13258026\n",
      "  0.23959572  0.60760999  0.07015458  0.06896552  0.09155767  0.02318668\n",
      "  0.19381688  0.15517241  0.04042806  0.26337693  0.06956005  0.09631391\n",
      "  0.04815696  0.11296076  0.10820452  0.0665874   0.24137931  0.19084423\n",
      "  0.05112961  0.16646849  0.05945303  0.08085612  0.06539834  0.08561237\n",
      "  0.07728894  0.30321046  0.05053508  0.0648038   0.04280618  0.20154578\n",
      "  0.08858502  0.3686088   0.06004756  0.31807372  0.04161712  0.06242568\n",
      "  0.08085612  0.07312723  0.21581451  0.5862069   0.02853746  0.34780024\n",
      "  0.03804994  0.05053508  0.039239    0.12009512  0.039239    0.54340071\n",
      "  0.40428062  0.2491082   0.35671819  0.03448276  0.02853746  0.05826397\n",
      "  0.04399524  0.02913199  0.03745541  0.04102259  0.32818074  0.03745541\n",
      "  0.06361474  0.03686088  0.04994055  0.02675386  0.10820452  0.03210464\n",
      "  0.3489893   0.02675386  0.22116528  0.20214031  0.03804994  0.14982164\n",
      "  0.10463734  0.14863258  0.09690844  0.02615933  0.382283    0.0921522\n",
      "  0.21165279  0.08858502  0.06242568  0.18906064  0.07193817  0.36741974\n",
      "  0.0469679   0.04458977  0.24256837  0.12722949  0.03804994  0.67122473\n",
      "  0.18549346  0.29429251  0.04042806  0.09512485  0.32104637  0.08501784\n",
      "  0.04875149  0.30261593  0.03745541  0.039239    0.03269917  0.03091558\n",
      "  0.06718193  0.10523187  0.07669441  0.32877527  0.15636147  0.51307967\n",
      "  0.06420927  0.02021403  0.18965517  0.28894174  0.05588585  0.3941736\n",
      "  0.18608799  0.11712247  0.02853746  0.06420927  0.16349584  0.03983353\n",
      "  0.13674197  0.19322235  0.05648038  0.56064209  0.39595719  0.22175981\n",
      "  0.48097503  0.07134364  0.16587396  0.35612366  0.29429251  0.03448276\n",
      "  0.47859691  0.2175981   0.09155767  0.37752675  0.07372176  0.39120095\n",
      "  0.0332937   0.49762188  0.31093936  0.04756243  0.21462545  0.04994055\n",
      "  0.21819263  0.08145065  0.25505351  0.0725327   0.0665874   0.0665874\n",
      "  0.29964328  0.11652794  0.05469679  0.07788347  0.16527943  0.09274673\n",
      "  0.21284185  0.02972652  0.02734839  0.48335315  0.06004756  0.15457788\n",
      "  0.35196195  0.03567182  0.14149822  0.19441141  0.13852556  0.14149822\n",
      "  0.04875149  0.03151011  0.19381688  0.0588585   0.07966706  0.078478\n",
      "  0.10285375  0.42568371  0.22175981  0.29488704  0.06718193  0.2175981\n",
      "  0.07728894  0.14744352  0.08382878  0.17895363  0.03864447  0.15517241\n",
      "  0.2627824 ]\n"
     ]
    }
   ],
   "source": [
    "print(mean_user_rating)"
   ]
  },
  {
   "cell_type": "code",
   "execution_count": null,
   "metadata": {},
   "outputs": [],
   "source": []
  },
  {
   "cell_type": "code",
   "execution_count": 26,
   "metadata": {},
   "outputs": [],
   "source": [
    "diff=train_matrix-mean_user_rating[:,np.newaxis]"
   ]
  },
  {
   "cell_type": "code",
   "execution_count": 27,
   "metadata": {},
   "outputs": [],
   "source": [
    "predictions=mean_user_rating[:,np.newaxis]+user_similarity.dot(diff)/np.array([np.abs(user_similarity).sum(axis=1)]).T"
   ]
  },
  {
   "cell_type": "code",
   "execution_count": 28,
   "metadata": {},
   "outputs": [
    {
     "data": {
      "text/plain": [
       "array([[ 1.55761338,  0.55001439,  0.45264786, ...,  0.27276193,\n",
       "         0.2751335 ,  0.27502667],\n",
       "       [ 1.33672239,  0.28091445,  0.13725968, ..., -0.06722227,\n",
       "        -0.06394202, -0.06373785],\n",
       "       [ 1.31775749,  0.2361101 ,  0.10236985, ..., -0.10826225,\n",
       "        -0.10501474, -0.10490476],\n",
       "       ..., \n",
       "       [ 1.22189231,  0.20533654,  0.06823778, ..., -0.12834738,\n",
       "        -0.12527257, -0.12516588],\n",
       "       [ 1.37500469,  0.31023194,  0.19818487, ..., -0.00694323,\n",
       "        -0.00419427, -0.00380607],\n",
       "       [ 1.4145586 ,  0.39035534,  0.29106064, ...,  0.10930852,\n",
       "         0.11177964,  0.11183897]])"
      ]
     },
     "execution_count": 28,
     "metadata": {},
     "output_type": "execute_result"
    }
   ],
   "source": [
    "predictions"
   ]
  },
  {
   "cell_type": "code",
   "execution_count": 29,
   "metadata": {
    "collapsed": true
   },
   "outputs": [],
   "source": [
    "from sklearn import metrics\n",
    "from math import sqrt"
   ]
  },
  {
   "cell_type": "code",
   "execution_count": 30,
   "metadata": {},
   "outputs": [],
   "source": [
    "test_matrix=np.zeros((n_users,n_items))\n",
    "for i in range(0,test.shape[0]):\n",
    "    user=test.loc[i]['user_id']-1\n",
    "    item=test.loc[i]['item_id']-1\n",
    "    rating=test.loc[i]['rating']\n",
    "    test_matrix[user,item]=rating"
   ]
  },
  {
   "cell_type": "code",
   "execution_count": 31,
   "metadata": {},
   "outputs": [
    {
     "name": "stdout",
     "output_type": "stream",
     "text": [
      "Error:\n",
      "3.120061571425749\n"
     ]
    }
   ],
   "source": [
    "#RMSE\n",
    "predict=predictions[test_matrix.nonzero()].flatten()\n",
    "truth=test_matrix[test_matrix.nonzero()].flatten()\n",
    "print(\"Error:\")\n",
    "print(sqrt(metrics.mean_squared_error(predict,truth)))"
   ]
  },
  {
   "cell_type": "markdown",
   "metadata": {},
   "source": [
    "# item similarity based collaborative filtering"
   ]
  },
  {
   "cell_type": "code",
   "execution_count": 32,
   "metadata": {
    "collapsed": true
   },
   "outputs": [],
   "source": [
    "item_similarity=pairwise_distances(train_matrix.T,metric='cosine')"
   ]
  },
  {
   "cell_type": "code",
   "execution_count": 33,
   "metadata": {},
   "outputs": [
    {
     "data": {
      "text/plain": [
       "(1682, 1682)"
      ]
     },
     "execution_count": 33,
     "metadata": {},
     "output_type": "execute_result"
    }
   ],
   "source": [
    "item_similarity.shape"
   ]
  },
  {
   "cell_type": "code",
   "execution_count": 34,
   "metadata": {},
   "outputs": [
    {
     "data": {
      "text/plain": [
       "array([[ 0.        ,  0.63858615,  0.71961953, ...,  1.        ,\n",
       "         0.94544045,  0.94544045],\n",
       "       [ 0.63858615,  0.        ,  0.76539316, ...,  1.        ,\n",
       "         0.90925741,  0.90925741],\n",
       "       [ 0.71961953,  0.76539316,  0.        , ...,  1.        ,\n",
       "         1.        ,  0.88537589],\n",
       "       ..., \n",
       "       [ 1.        ,  1.        ,  1.        , ...,  0.        ,\n",
       "         1.        ,  1.        ],\n",
       "       [ 0.94544045,  0.90925741,  1.        , ...,  1.        ,\n",
       "         0.        ,  1.        ],\n",
       "       [ 0.94544045,  0.90925741,  0.88537589, ...,  1.        ,\n",
       "         1.        ,  0.        ]])"
      ]
     },
     "execution_count": 34,
     "metadata": {},
     "output_type": "execute_result"
    }
   ],
   "source": [
    "item_similarity"
   ]
  },
  {
   "cell_type": "code",
   "execution_count": 35,
   "metadata": {
    "collapsed": true
   },
   "outputs": [],
   "source": [
    "predictions1=train_matrix.dot(item_similarity)/np.array([np.abs(item_similarity).sum(axis=1)])"
   ]
  },
  {
   "cell_type": "code",
   "execution_count": 36,
   "metadata": {},
   "outputs": [
    {
     "data": {
      "text/plain": [
       "(943, 1682)"
      ]
     },
     "execution_count": 36,
     "metadata": {},
     "output_type": "execute_result"
    }
   ],
   "source": [
    "predictions1.shape"
   ]
  },
  {
   "cell_type": "code",
   "execution_count": 37,
   "metadata": {},
   "outputs": [
    {
     "data": {
      "text/plain": [
       "array([[ 0.34861052,  0.36322961,  0.38026644, ...,  0.42415229,\n",
       "         0.41718186,  0.41315619],\n",
       "       [ 0.08917586,  0.09996194,  0.09586072, ...,  0.10232005,\n",
       "         0.10226914,  0.10273929],\n",
       "       [ 0.05861111,  0.06223505,  0.059921  , ...,  0.06127305,\n",
       "         0.06119454,  0.06184447],\n",
       "       ..., \n",
       "       [ 0.02844689,  0.03448916,  0.03352695, ...,  0.03866746,\n",
       "         0.03793393,  0.03836359],\n",
       "       [ 0.13461872,  0.1406997 ,  0.14912976, ...,  0.15526472,\n",
       "         0.15275802,  0.15501734],\n",
       "       [ 0.2118463 ,  0.21274084,  0.23097108, ...,  0.26293873,\n",
       "         0.2564759 ,  0.25720922]])"
      ]
     },
     "execution_count": 37,
     "metadata": {},
     "output_type": "execute_result"
    }
   ],
   "source": [
    "predictions1"
   ]
  },
  {
   "cell_type": "code",
   "execution_count": 38,
   "metadata": {
    "collapsed": true
   },
   "outputs": [],
   "source": [
    "predict1=predictions1[test_matrix.nonzero()].flatten()\n",
    "truth=test_matrix[test_matrix.nonzero()].flatten()"
   ]
  },
  {
   "cell_type": "code",
   "execution_count": 39,
   "metadata": {},
   "outputs": [
    {
     "name": "stdout",
     "output_type": "stream",
     "text": [
      "Error:\n",
      "3.4472573910990616\n"
     ]
    }
   ],
   "source": [
    "print(\"Error:\")\n",
    "print(sqrt(metrics.mean_squared_error(predict1,truth)))"
   ]
  },
  {
   "cell_type": "code",
   "execution_count": null,
   "metadata": {
    "collapsed": true
   },
   "outputs": [],
   "source": []
  }
 ],
 "metadata": {
  "kernelspec": {
   "display_name": "Python 3",
   "language": "python",
   "name": "python3"
  },
  "language_info": {
   "codemirror_mode": {
    "name": "ipython",
    "version": 3
   },
   "file_extension": ".py",
   "mimetype": "text/x-python",
   "name": "python",
   "nbconvert_exporter": "python",
   "pygments_lexer": "ipython3",
   "version": "3.6.2"
  }
 },
 "nbformat": 4,
 "nbformat_minor": 2
}
